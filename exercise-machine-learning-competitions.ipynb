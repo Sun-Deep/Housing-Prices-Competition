{
 "cells": [
  {
   "cell_type": "markdown",
   "metadata": {},
   "source": [
    "**[Introduction to Machine Learning Home Page](https://www.kaggle.com/learn/intro-to-machine-learning)**\n",
    "\n",
    "---\n"
   ]
  },
  {
   "cell_type": "markdown",
   "metadata": {},
   "source": [
    "# Introduction\n",
    "Machine learning competitions are a great way to improve your data science skills and measure your progress. \n",
    "\n",
    "In this exercise, you will create and submit predictions for a Kaggle competition. You can then improve your model (e.g. by adding features) to improve and see how you stack up to others taking this micro-course.\n",
    "\n",
    "The steps in this notebook are:\n",
    "1. Build a Random Forest model with all of your data (**X** and **y**)\n",
    "2. Read in the \"test\" data, which doesn't include values for the target.  Predict home values in the test data with your Random Forest model.\n",
    "3. Submit those predictions to the competition and see your score.\n",
    "4. Optionally, come back to see if you can improve your model by adding features or changing your model. Then you can resubmit to see how that stacks up on the competition leaderboard."
   ]
  },
  {
   "cell_type": "markdown",
   "metadata": {},
   "source": [
    "## Recap\n",
    "Here's the code you've written so far. Start by running it again."
   ]
  },
  {
   "cell_type": "code",
   "execution_count": 1,
   "metadata": {},
   "outputs": [
    {
     "name": "stdout",
     "output_type": "stream",
     "text": [
      "        Id  MSSubClass MSZoning  LotFrontage  LotArea Street Alley LotShape  \\\n",
      "0        1          60       RL         65.0     8450   Pave   NaN      Reg   \n",
      "1        2          20       RL         80.0     9600   Pave   NaN      Reg   \n",
      "2        3          60       RL         68.0    11250   Pave   NaN      IR1   \n",
      "3        4          70       RL         60.0     9550   Pave   NaN      IR1   \n",
      "4        5          60       RL         84.0    14260   Pave   NaN      IR1   \n",
      "...    ...         ...      ...          ...      ...    ...   ...      ...   \n",
      "1455  1456          60       RL         62.0     7917   Pave   NaN      Reg   \n",
      "1456  1457          20       RL         85.0    13175   Pave   NaN      Reg   \n",
      "1457  1458          70       RL         66.0     9042   Pave   NaN      Reg   \n",
      "1458  1459          20       RL         68.0     9717   Pave   NaN      Reg   \n",
      "1459  1460          20       RL         75.0     9937   Pave   NaN      Reg   \n",
      "\n",
      "     LandContour Utilities LotConfig LandSlope Neighborhood Condition1  \\\n",
      "0            Lvl    AllPub    Inside       Gtl      CollgCr       Norm   \n",
      "1            Lvl    AllPub       FR2       Gtl      Veenker      Feedr   \n",
      "2            Lvl    AllPub    Inside       Gtl      CollgCr       Norm   \n",
      "3            Lvl    AllPub    Corner       Gtl      Crawfor       Norm   \n",
      "4            Lvl    AllPub       FR2       Gtl      NoRidge       Norm   \n",
      "...          ...       ...       ...       ...          ...        ...   \n",
      "1455         Lvl    AllPub    Inside       Gtl      Gilbert       Norm   \n",
      "1456         Lvl    AllPub    Inside       Gtl       NWAmes       Norm   \n",
      "1457         Lvl    AllPub    Inside       Gtl      Crawfor       Norm   \n",
      "1458         Lvl    AllPub    Inside       Gtl        NAmes       Norm   \n",
      "1459         Lvl    AllPub    Inside       Gtl      Edwards       Norm   \n",
      "\n",
      "     Condition2 BldgType HouseStyle  OverallQual  OverallCond  YearBuilt  \\\n",
      "0          Norm     1Fam     2Story            7            5       2003   \n",
      "1          Norm     1Fam     1Story            6            8       1976   \n",
      "2          Norm     1Fam     2Story            7            5       2001   \n",
      "3          Norm     1Fam     2Story            7            5       1915   \n",
      "4          Norm     1Fam     2Story            8            5       2000   \n",
      "...         ...      ...        ...          ...          ...        ...   \n",
      "1455       Norm     1Fam     2Story            6            5       1999   \n",
      "1456       Norm     1Fam     1Story            6            6       1978   \n",
      "1457       Norm     1Fam     2Story            7            9       1941   \n",
      "1458       Norm     1Fam     1Story            5            6       1950   \n",
      "1459       Norm     1Fam     1Story            5            6       1965   \n",
      "\n",
      "      YearRemodAdd RoofStyle RoofMatl Exterior1st Exterior2nd MasVnrType  \\\n",
      "0             2003     Gable  CompShg     VinylSd     VinylSd    BrkFace   \n",
      "1             1976     Gable  CompShg     MetalSd     MetalSd       None   \n",
      "2             2002     Gable  CompShg     VinylSd     VinylSd    BrkFace   \n",
      "3             1970     Gable  CompShg     Wd Sdng     Wd Shng       None   \n",
      "4             2000     Gable  CompShg     VinylSd     VinylSd    BrkFace   \n",
      "...            ...       ...      ...         ...         ...        ...   \n",
      "1455          2000     Gable  CompShg     VinylSd     VinylSd       None   \n",
      "1456          1988     Gable  CompShg     Plywood     Plywood      Stone   \n",
      "1457          2006     Gable  CompShg     CemntBd     CmentBd       None   \n",
      "1458          1996       Hip  CompShg     MetalSd     MetalSd       None   \n",
      "1459          1965     Gable  CompShg     HdBoard     HdBoard       None   \n",
      "\n",
      "      MasVnrArea ExterQual ExterCond Foundation BsmtQual BsmtCond  \\\n",
      "0          196.0        Gd        TA      PConc       Gd       TA   \n",
      "1            0.0        TA        TA     CBlock       Gd       TA   \n",
      "2          162.0        Gd        TA      PConc       Gd       TA   \n",
      "3            0.0        TA        TA     BrkTil       TA       Gd   \n",
      "4          350.0        Gd        TA      PConc       Gd       TA   \n",
      "...          ...       ...       ...        ...      ...      ...   \n",
      "1455         0.0        TA        TA      PConc       Gd       TA   \n",
      "1456       119.0        TA        TA     CBlock       Gd       TA   \n",
      "1457         0.0        Ex        Gd      Stone       TA       Gd   \n",
      "1458         0.0        TA        TA     CBlock       TA       TA   \n",
      "1459         0.0        Gd        TA     CBlock       TA       TA   \n",
      "\n",
      "     BsmtExposure BsmtFinType1  BsmtFinSF1 BsmtFinType2  BsmtFinSF2  \\\n",
      "0              No          GLQ         706          Unf           0   \n",
      "1              Gd          ALQ         978          Unf           0   \n",
      "2              Mn          GLQ         486          Unf           0   \n",
      "3              No          ALQ         216          Unf           0   \n",
      "4              Av          GLQ         655          Unf           0   \n",
      "...           ...          ...         ...          ...         ...   \n",
      "1455           No          Unf           0          Unf           0   \n",
      "1456           No          ALQ         790          Rec         163   \n",
      "1457           No          GLQ         275          Unf           0   \n",
      "1458           Mn          GLQ          49          Rec        1029   \n",
      "1459           No          BLQ         830          LwQ         290   \n",
      "\n",
      "      BsmtUnfSF  TotalBsmtSF Heating HeatingQC CentralAir Electrical  \\\n",
      "0           150          856    GasA        Ex          Y      SBrkr   \n",
      "1           284         1262    GasA        Ex          Y      SBrkr   \n",
      "2           434          920    GasA        Ex          Y      SBrkr   \n",
      "3           540          756    GasA        Gd          Y      SBrkr   \n",
      "4           490         1145    GasA        Ex          Y      SBrkr   \n",
      "...         ...          ...     ...       ...        ...        ...   \n",
      "1455        953          953    GasA        Ex          Y      SBrkr   \n",
      "1456        589         1542    GasA        TA          Y      SBrkr   \n",
      "1457        877         1152    GasA        Ex          Y      SBrkr   \n",
      "1458          0         1078    GasA        Gd          Y      FuseA   \n",
      "1459        136         1256    GasA        Gd          Y      SBrkr   \n",
      "\n",
      "      1stFlrSF  2ndFlrSF  LowQualFinSF  GrLivArea  BsmtFullBath  BsmtHalfBath  \\\n",
      "0          856       854             0       1710             1             0   \n",
      "1         1262         0             0       1262             0             1   \n",
      "2          920       866             0       1786             1             0   \n",
      "3          961       756             0       1717             1             0   \n",
      "4         1145      1053             0       2198             1             0   \n",
      "...        ...       ...           ...        ...           ...           ...   \n",
      "1455       953       694             0       1647             0             0   \n",
      "1456      2073         0             0       2073             1             0   \n",
      "1457      1188      1152             0       2340             0             0   \n",
      "1458      1078         0             0       1078             1             0   \n",
      "1459      1256         0             0       1256             1             0   \n",
      "\n",
      "      FullBath  HalfBath  BedroomAbvGr  KitchenAbvGr KitchenQual  \\\n",
      "0            2         1             3             1          Gd   \n",
      "1            2         0             3             1          TA   \n",
      "2            2         1             3             1          Gd   \n",
      "3            1         0             3             1          Gd   \n",
      "4            2         1             4             1          Gd   \n",
      "...        ...       ...           ...           ...         ...   \n",
      "1455         2         1             3             1          TA   \n",
      "1456         2         0             3             1          TA   \n",
      "1457         2         0             4             1          Gd   \n",
      "1458         1         0             2             1          Gd   \n",
      "1459         1         1             3             1          TA   \n",
      "\n",
      "      TotRmsAbvGrd Functional  Fireplaces FireplaceQu GarageType  GarageYrBlt  \\\n",
      "0                8        Typ           0         NaN     Attchd       2003.0   \n",
      "1                6        Typ           1          TA     Attchd       1976.0   \n",
      "2                6        Typ           1          TA     Attchd       2001.0   \n",
      "3                7        Typ           1          Gd     Detchd       1998.0   \n",
      "4                9        Typ           1          TA     Attchd       2000.0   \n",
      "...            ...        ...         ...         ...        ...          ...   \n",
      "1455             7        Typ           1          TA     Attchd       1999.0   \n",
      "1456             7       Min1           2          TA     Attchd       1978.0   \n",
      "1457             9        Typ           2          Gd     Attchd       1941.0   \n",
      "1458             5        Typ           0         NaN     Attchd       1950.0   \n",
      "1459             6        Typ           0         NaN     Attchd       1965.0   \n",
      "\n",
      "     GarageFinish  GarageCars  GarageArea GarageQual GarageCond PavedDrive  \\\n",
      "0             RFn           2         548         TA         TA          Y   \n",
      "1             RFn           2         460         TA         TA          Y   \n",
      "2             RFn           2         608         TA         TA          Y   \n",
      "3             Unf           3         642         TA         TA          Y   \n",
      "4             RFn           3         836         TA         TA          Y   \n",
      "...           ...         ...         ...        ...        ...        ...   \n",
      "1455          RFn           2         460         TA         TA          Y   \n",
      "1456          Unf           2         500         TA         TA          Y   \n",
      "1457          RFn           1         252         TA         TA          Y   \n",
      "1458          Unf           1         240         TA         TA          Y   \n",
      "1459          Fin           1         276         TA         TA          Y   \n",
      "\n",
      "      WoodDeckSF  OpenPorchSF  EnclosedPorch  3SsnPorch  ScreenPorch  \\\n",
      "0              0           61              0          0            0   \n",
      "1            298            0              0          0            0   \n",
      "2              0           42              0          0            0   \n",
      "3              0           35            272          0            0   \n",
      "4            192           84              0          0            0   \n",
      "...          ...          ...            ...        ...          ...   \n",
      "1455           0           40              0          0            0   \n",
      "1456         349            0              0          0            0   \n",
      "1457           0           60              0          0            0   \n",
      "1458         366            0            112          0            0   \n",
      "1459         736           68              0          0            0   \n",
      "\n",
      "      PoolArea PoolQC  Fence MiscFeature  MiscVal  MoSold  YrSold SaleType  \\\n",
      "0            0    NaN    NaN         NaN        0       2    2008       WD   \n",
      "1            0    NaN    NaN         NaN        0       5    2007       WD   \n",
      "2            0    NaN    NaN         NaN        0       9    2008       WD   \n",
      "3            0    NaN    NaN         NaN        0       2    2006       WD   \n",
      "4            0    NaN    NaN         NaN        0      12    2008       WD   \n",
      "...        ...    ...    ...         ...      ...     ...     ...      ...   \n",
      "1455         0    NaN    NaN         NaN        0       8    2007       WD   \n",
      "1456         0    NaN  MnPrv         NaN        0       2    2010       WD   \n",
      "1457         0    NaN  GdPrv        Shed     2500       5    2010       WD   \n",
      "1458         0    NaN    NaN         NaN        0       4    2010       WD   \n",
      "1459         0    NaN    NaN         NaN        0       6    2008       WD   \n",
      "\n",
      "     SaleCondition  SalePrice  \n",
      "0           Normal     208500  \n",
      "1           Normal     181500  \n",
      "2           Normal     223500  \n",
      "3          Abnorml     140000  \n",
      "4           Normal     250000  \n",
      "...            ...        ...  \n",
      "1455        Normal     175000  \n",
      "1456        Normal     210000  \n",
      "1457        Normal     266500  \n",
      "1458        Normal     142125  \n",
      "1459        Normal     147500  \n",
      "\n",
      "[1460 rows x 81 columns]\n",
      "Validation MAE when not specifying max_leaf_nodes: 29,653\n",
      "Validation MAE for best value of max_leaf_nodes: 27,283\n",
      "Validation MAE for Random Forest Model: 22,762\n"
     ]
    },
    {
     "name": "stderr",
     "output_type": "stream",
     "text": [
      "/opt/conda/lib/python3.6/site-packages/sklearn/ensemble/forest.py:245: FutureWarning: The default value of n_estimators will change from 10 in version 0.20 to 100 in 0.22.\n",
      "  \"10 in version 0.20 to 100 in 0.22.\", FutureWarning)\n"
     ]
    }
   ],
   "source": [
    "\n",
    "# Code you have previously used to load data\n",
    "import pandas as pd\n",
    "from sklearn.ensemble import RandomForestRegressor\n",
    "from sklearn.metrics import mean_absolute_error\n",
    "from sklearn.model_selection import train_test_split\n",
    "from sklearn.tree import DecisionTreeRegressor\n",
    "\n",
    "pd.set_option('display.max_columns', None)\n",
    "# Set up code checking\n",
    "import os\n",
    "if not os.path.exists(\"../input/train.csv\"):\n",
    "    os.symlink(\"../input/home-data-for-ml-course/train.csv\", \"../input/train.csv\")  \n",
    "    os.symlink(\"../input/home-data-for-ml-course/test.csv\", \"../input/test.csv\") \n",
    "from learntools.core import binder\n",
    "binder.bind(globals())\n",
    "from learntools.machine_learning.ex7 import *\n",
    "\n",
    "# Path of the file to read. We changed the directory structure to simplify submitting to a competition\n",
    "iowa_file_path = '../input/train.csv'\n",
    "\n",
    "home_data = pd.read_csv(iowa_file_path)\n",
    "print(home_data)\n",
    " \n",
    "# Create target object and call it y\n",
    "y = home_data.SalePrice\n",
    "# Create X\n",
    "features = ['LotArea', 'YearBuilt', '1stFlrSF', '2ndFlrSF', 'FullBath', 'BedroomAbvGr',\n",
    "            'TotRmsAbvGrd'\n",
    "           ]\n",
    "X = home_data[features]\n",
    "\n",
    "# Split into validation and training data\n",
    "train_X, val_X, train_y, val_y = train_test_split(X, y, random_state=1)\n",
    "\n",
    "# Specify Model\n",
    "iowa_model = DecisionTreeRegressor(random_state=1)\n",
    "# Fit Model\n",
    "iowa_model.fit(train_X, train_y)\n",
    "\n",
    "# Make validation predictions and calculate mean absolute error\n",
    "val_predictions = iowa_model.predict(val_X)\n",
    "val_mae = mean_absolute_error(val_predictions, val_y)\n",
    "print(\"Validation MAE when not specifying max_leaf_nodes: {:,.0f}\".format(val_mae))\n",
    "\n",
    "# Using best value for max_leaf_nodes\n",
    "iowa_model = DecisionTreeRegressor(max_leaf_nodes=100, random_state=1)\n",
    "iowa_model.fit(train_X, train_y)\n",
    "val_predictions = iowa_model.predict(val_X)\n",
    "val_mae = mean_absolute_error(val_predictions, val_y)\n",
    "print(\"Validation MAE for best value of max_leaf_nodes: {:,.0f}\".format(val_mae))\n",
    "\n",
    "# Define the model. Set random_state to 1\n",
    "rf_model = RandomForestRegressor(random_state=1)\n",
    "rf_model.fit(train_X, train_y)\n",
    "rf_val_predictions = rf_model.predict(val_X)\n",
    "rf_val_mae = mean_absolute_error(rf_val_predictions, val_y)\n",
    "\n",
    "print(\"Validation MAE for Random Forest Model: {:,.0f}\".format(rf_val_mae))"
   ]
  },
  {
   "cell_type": "markdown",
   "metadata": {},
   "source": [
    "# Creating a Model For the Competition\n",
    "\n",
    "Build a Random Forest model and train it on all of **X** and **y**."
   ]
  },
  {
   "cell_type": "code",
   "execution_count": 2,
   "metadata": {},
   "outputs": [
    {
     "name": "stderr",
     "output_type": "stream",
     "text": [
      "/opt/conda/lib/python3.6/site-packages/sklearn/ensemble/forest.py:245: FutureWarning: The default value of n_estimators will change from 10 in version 0.20 to 100 in 0.22.\n",
      "  \"10 in version 0.20 to 100 in 0.22.\", FutureWarning)\n"
     ]
    },
    {
     "data": {
      "text/plain": [
       "RandomForestRegressor(bootstrap=True, criterion='mse', max_depth=None,\n",
       "                      max_features='auto', max_leaf_nodes=None,\n",
       "                      min_impurity_decrease=0.0, min_impurity_split=None,\n",
       "                      min_samples_leaf=1, min_samples_split=2,\n",
       "                      min_weight_fraction_leaf=0.0, n_estimators=10,\n",
       "                      n_jobs=None, oob_score=False, random_state=1, verbose=0,\n",
       "                      warm_start=False)"
      ]
     },
     "execution_count": 2,
     "metadata": {},
     "output_type": "execute_result"
    }
   ],
   "source": [
    "# To improve accuracy, create a new Random Forest model which you will train on all training data\n",
    "rf_model_on_full_data = RandomForestRegressor(random_state=1)\n",
    "\n",
    "# fit rf_model_on_full_data on all data from the training data\n",
    "rf_model_on_full_data.fit(train_X, train_y)\n"
   ]
  },
  {
   "cell_type": "markdown",
   "metadata": {},
   "source": [
    "# Make Predictions\n",
    "Read the file of \"test\" data. And apply your model to make predictions"
   ]
  },
  {
   "cell_type": "code",
   "execution_count": 3,
   "metadata": {},
   "outputs": [],
   "source": [
    "# path to file you will use for predictions\n",
    "test_data_path = '../input/test.csv'\n",
    "\n",
    "# read test data file using pandas\n",
    "test_data = pd.read_csv(test_data_path)\n",
    "\n",
    "# create test_X which comes from test_data but includes only the columns you used for prediction.\n",
    "# The list of columns is stored in a variable called features\n",
    "test_X = test_data[features]\n",
    "\n",
    "# make predictions which we will submit. \n",
    "test_preds = rf_model_on_full_data.predict(test_X)\n",
    "\n",
    "# The lines below shows how to save predictions in format used for competition scoring\n",
    "# Just uncomment them.\n",
    "\n",
    "output = pd.DataFrame({'Id': test_data.Id,\n",
    "                       'SalePrice': test_preds})\n",
    "output.to_csv('submission.csv', index=False)"
   ]
  },
  {
   "cell_type": "markdown",
   "metadata": {},
   "source": [
    "Before submitting, run a check to make sure your `test_preds` have the right format."
   ]
  },
  {
   "cell_type": "code",
   "execution_count": 4,
   "metadata": {},
   "outputs": [
    {
     "data": {
      "application/javascript": [
       "parent.postMessage({\"jupyterEvent\": \"custom.exercise_interaction\", \"data\": {\"outcomeType\": 1, \"valueTowardsCompletion\": 1.0, \"interactionType\": 1, \"questionType\": 2, \"questionId\": \"1_CheckSubmittablePreds\", \"learnToolsVersion\": \"0.3.3\", \"failureMessage\": \"\", \"exceptionClass\": \"\", \"trace\": \"\"}}, \"*\")"
      ],
      "text/plain": [
       "<IPython.core.display.Javascript object>"
      ]
     },
     "metadata": {},
     "output_type": "display_data"
    },
    {
     "data": {
      "text/markdown": [
       "<span style=\"color:#33cc33\">Correct</span>"
      ],
      "text/plain": [
       "Correct"
      ]
     },
     "metadata": {},
     "output_type": "display_data"
    }
   ],
   "source": [
    "# Check your answer\n",
    "step_1.check()\n",
    "#step_1.solution()"
   ]
  },
  {
   "cell_type": "markdown",
   "metadata": {},
   "source": [
    "# Test Your Work\n",
    "\n",
    "To test your results, you'll need to join the competition (if you haven't already).  So open a new window by clicking on [this link](https://www.kaggle.com/c/home-data-for-ml-course).  Then click on the **Join Competition** button.\n",
    "\n",
    "![join competition image](https://i.imgur.com/wLmFtH3.png)\n",
    "\n",
    "Next, follow the instructions below:\n",
    "1. Begin by clicking on the blue **COMMIT** button in the top right corner of this window.  This will generate a pop-up window.  \n",
    "2. After your code has finished running, click on the blue **Open Version** button in the top right of the pop-up window.  This brings you into view mode of the same page. You will need to scroll down to get back to these instructions.\n",
    "3. Click on the **Output** tab on the left of the screen.  Then, click on the **Submit to Competition** button to submit your results to the leaderboard.\n",
    "\n",
    "You have now successfully submitted to the competition!\n",
    "\n",
    "4. If you want to keep working to improve your performance, select the blue **Edit** button in the top right of the screen. Then you can change your model and repeat the process. There's a lot of room to improve your model, and you will climb up the leaderboard as you work.\n",
    "\n",
    "# Continuing Your Progress\n",
    "There are many ways to improve your model, and **experimenting is a great way to learn at this point.**\n",
    "\n",
    "The best way to improve your model is to add features.  Look at the list of columns and think about what might affect home prices.  Some features will cause errors because of issues like missing values or non-numeric data types. \n",
    "\n",
    "The **[Intermediate Machine Learning](https://www.kaggle.com/learn/intermediate-machine-learning)** micro-course will teach you how to handle these types of features. You will also learn to use **xgboost**, a technique giving even better accuracy than Random Forest.\n",
    "\n",
    "\n",
    "# Other Micro-Courses\n",
    "The **[Pandas](https://kaggle.com/Learn/Pandas)** micro-course will give you the data manipulation skills to quickly go from conceptual idea to implementation in your data science projects. \n",
    "\n",
    "You are also ready for the **[Deep Learning](https://kaggle.com/Learn/Deep-Learning)** micro-course, where you will build models with better-than-human level performance at computer vision tasks."
   ]
  },
  {
   "cell_type": "markdown",
   "metadata": {},
   "source": [
    "---\n",
    "**[Introduction to Machine Learning Home Page](https://www.kaggle.com/learn/intro-to-machine-learning)**\n",
    "\n",
    "\n",
    "\n",
    "\n",
    "\n",
    "*Have questions or comments? Visit the [Learn Discussion forum](https://www.kaggle.com/learn-forum) to chat with other Learners.*"
   ]
  }
 ],
 "metadata": {
  "kernelspec": {
   "display_name": "Python 3",
   "language": "python",
   "name": "python3"
  },
  "language_info": {
   "codemirror_mode": {
    "name": "ipython",
    "version": 3
   },
   "file_extension": ".py",
   "mimetype": "text/x-python",
   "name": "python",
   "nbconvert_exporter": "python",
   "pygments_lexer": "ipython3",
   "version": "3.6.6"
  }
 },
 "nbformat": 4,
 "nbformat_minor": 1
}
